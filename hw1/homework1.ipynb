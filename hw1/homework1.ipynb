{
 "cells": [
  {
   "cell_type": "code",
   "execution_count": 53,
   "id": "d545425e",
   "metadata": {},
   "outputs": [],
   "source": [
    "import json\n",
    "from matplotlib import pyplot as plt\n",
    "from collections import defaultdict\n",
    "from sklearn import linear_model\n",
    "import numpy\n",
    "import random\n",
    "import gzip\n",
    "import math"
   ]
  },
  {
   "cell_type": "code",
   "execution_count": 54,
   "id": "ce28cb85",
   "metadata": {},
   "outputs": [],
   "source": [
    "import numpy as np"
   ]
  },
  {
   "cell_type": "code",
   "execution_count": 55,
   "id": "d577aff3",
   "metadata": {},
   "outputs": [],
   "source": [
    "import warnings\n",
    "warnings.filterwarnings(\"ignore\")"
   ]
  },
  {
   "cell_type": "code",
   "execution_count": 56,
   "id": "e74ac91e",
   "metadata": {},
   "outputs": [],
   "source": [
    "def assertFloat(x): # Checks that an answer is a float\n",
    "    assert type(float(x)) == float\n",
    "\n",
    "def assertFloatList(items, N):\n",
    "    assert len(items) == N\n",
    "    assert [type(float(x)) for x in items] == [float]*N"
   ]
  },
  {
   "cell_type": "code",
   "execution_count": 57,
   "id": "1a7911bf",
   "metadata": {},
   "outputs": [],
   "source": [
    "f = gzip.open(\"young_adult_10000.json.gz\")\n",
    "dataset = []\n",
    "for l in f:\n",
    "    dataset.append(json.loads(l))"
   ]
  },
  {
   "cell_type": "code",
   "execution_count": 58,
   "id": "85100ed3",
   "metadata": {},
   "outputs": [
    {
     "data": {
      "text/plain": [
       "10000"
      ]
     },
     "execution_count": 58,
     "metadata": {},
     "output_type": "execute_result"
    }
   ],
   "source": [
    "len(dataset)"
   ]
  },
  {
   "cell_type": "code",
   "execution_count": 59,
   "id": "e716aa89",
   "metadata": {},
   "outputs": [],
   "source": [
    "answers = {} # Put your answers to each question in this dictionary"
   ]
  },
  {
   "cell_type": "code",
   "execution_count": 60,
   "id": "cb2c286a",
   "metadata": {},
   "outputs": [
    {
     "data": {
      "text/plain": [
       "{'user_id': '8842281e1d1347389f2ab93d60773d4d',\n",
       " 'book_id': '2767052',\n",
       " 'review_id': '248c011811e945eca861b5c31a549291',\n",
       " 'rating': 5,\n",
       " 'review_text': \"I cracked and finally picked this up. Very enjoyable quick read - couldn't put it down - it was like crack. \\n I'm a bit bothered by the lack of backstory of how Panem and the Hunger Games come about. It is just kind of explained away in a few paragraphs and we are left to accept this very strange world where teenagers are pitted into an arena each year to kill each other? I was expecting it because I've seen Battle Royale, but I would have appreciated knowing more of the backstory of how the world could have come into such a odd state. \\n I suppose what makes a book like this interesting is thinking about the strategy of it all. The players are going to be statistically encouraged to band together because they will last longer that way, but by definition of course any partnership will be broken, and the drama of how that unfolds is always interesting and full of friendships broken and betrayal. Each character approached the game in their own way. Some banded together in larger coalitions, some were loners initially and banded together later. And some were just loners, like Foxface. A lot depended on your survival skill: could you find food and water on your own? Self-dependence is highly valued - and of course our hero was strong there. \\n All in all, a fun read, but I feel kind of dirty for having read it.\",\n",
       " 'date_added': 'Wed Jan 13 13:38:25 -0800 2010',\n",
       " 'date_updated': 'Wed Mar 22 11:46:36 -0700 2017',\n",
       " 'read_at': 'Sun Mar 25 00:00:00 -0700 2012',\n",
       " 'started_at': 'Fri Mar 23 00:00:00 -0700 2012',\n",
       " 'n_votes': 24,\n",
       " 'n_comments': 25}"
      ]
     },
     "execution_count": 60,
     "metadata": {},
     "output_type": "execute_result"
    }
   ],
   "source": [
    "dataset[0]"
   ]
  },
  {
   "cell_type": "code",
   "execution_count": 61,
   "id": "cef2a96b",
   "metadata": {},
   "outputs": [],
   "source": [
    "import numpy as np\n",
    "from sklearn.metrics import mean_squared_error"
   ]
  },
  {
   "cell_type": "code",
   "execution_count": 62,
   "id": "2a260695",
   "metadata": {},
   "outputs": [],
   "source": [
    "### Question 1\n",
    "X = np.array([review['review_text'].count('!') for review in dataset]).reshape(-1, 1)\n",
    "y = np.array([review['rating'] for review in dataset])\n",
    "\n",
    "model = linear_model.LinearRegression()\n",
    "model.fit(X, y)\n",
    "\n",
    "y_pred = model.predict(X)\n",
    "mse = mean_squared_error(y, y_pred)\n",
    "theta0 = model.intercept_\n",
    "theta1 = model.coef_[0]\n"
   ]
  },
  {
   "cell_type": "code",
   "execution_count": 63,
   "id": "51581a4f",
   "metadata": {},
   "outputs": [],
   "source": [
    "answers['Q1'] = [float(theta0), float(theta1), float(mse)]"
   ]
  },
  {
   "cell_type": "code",
   "execution_count": 67,
   "id": "525fd954",
   "metadata": {},
   "outputs": [],
   "source": [
    "assertFloatList(answers['Q1'], 3) # Check the format of your answer (three floats)"
   ]
  },
  {
   "cell_type": "code",
   "execution_count": 68,
   "id": "8b84731b",
   "metadata": {},
   "outputs": [],
   "source": [
    "### Question 2"
   ]
  },
  {
   "cell_type": "code",
   "execution_count": 69,
   "id": "cda70702",
   "metadata": {},
   "outputs": [],
   "source": [
    "num_exclamations = np.array([review['review_text'].count('!') for review in dataset]).reshape(-1, 1)\n",
    "review_length = np.array([len(review['review_text']) for review in dataset]).reshape(-1, 1)\n",
    "\n",
    "X = np.hstack((review_length, num_exclamations))\n",
    "y = np.array([review['rating'] for review in dataset])\n",
    "\n",
    "model = linear_model.LinearRegression()\n",
    "model.fit(X, y)\n",
    "\n",
    "y_pred = model.predict(X)\n",
    "\n",
    "mse = mean_squared_error(y, y_pred)\n",
    "\n",
    "theta0 = model.intercept_\n",
    "theta1 = model.coef_[0]\n",
    "theta2 = model.coef_[1]"
   ]
  },
  {
   "cell_type": "code",
   "execution_count": 70,
   "id": "f099afd8",
   "metadata": {},
   "outputs": [],
   "source": [
    "answers['Q2'] = [float(theta0), float(theta1), float(theta2), float(mse)]"
   ]
  },
  {
   "cell_type": "code",
   "execution_count": 71,
   "id": "31e2f9e8",
   "metadata": {},
   "outputs": [],
   "source": [
    "assertFloatList(answers['Q2'], 4)"
   ]
  },
  {
   "cell_type": "code",
   "execution_count": 72,
   "id": "5fa00b58",
   "metadata": {},
   "outputs": [],
   "source": [
    "from sklearn.preprocessing import PolynomialFeatures"
   ]
  },
  {
   "cell_type": "code",
   "execution_count": 76,
   "id": "1147c4f6",
   "metadata": {},
   "outputs": [],
   "source": [
    "### Question 3\n",
    "mses = []\n",
    "\n",
    "X = np.array([review['review_text'].count('!') for review in dataset]).reshape(-1, 1)\n",
    "y = np.array([review['rating'] for review in dataset])\n",
    "\n",
    "for degree in range(1, 6):\n",
    "    poly = PolynomialFeatures(degree)\n",
    "    X_poly = poly.fit_transform(X)\n",
    "    \n",
    "    model = linear_model.LinearRegression()\n",
    "    model.fit(X_poly, y)\n",
    "    \n",
    "    y_pred = model.predict(X_poly)\n",
    "    \n",
    "    mse = mean_squared_error(y, y_pred)\n",
    "    \n",
    "    mses.append(float(mse))\n"
   ]
  },
  {
   "cell_type": "code",
   "execution_count": 77,
   "id": "559faac4",
   "metadata": {},
   "outputs": [],
   "source": [
    "answers['Q3'] = mses"
   ]
  },
  {
   "cell_type": "code",
   "execution_count": 78,
   "id": "bbb5da71",
   "metadata": {},
   "outputs": [],
   "source": [
    "assertFloatList(answers['Q3'], 5)# List of length 5"
   ]
  },
  {
   "cell_type": "code",
   "execution_count": 80,
   "id": "e91bc048",
   "metadata": {},
   "outputs": [],
   "source": [
    "### Question 4\n",
    "X = np.array([review['review_text'].count('!') for review in dataset]).reshape(-1, 1)\n",
    "y = np.array([review['rating'] for review in dataset])\n",
    "\n",
    "split_index = len(X) // 2\n",
    "X_train, X_test = X[:split_index], X[split_index:]\n",
    "y_train, y_test = y[:split_index], y[split_index:]\n",
    "\n",
    "mses = []\n",
    "for degree in range(1, 6):\n",
    "    poly = PolynomialFeatures(degree)\n",
    "    \n",
    "    X_train_poly = poly.fit_transform(X_train)\n",
    "    X_test_poly = poly.transform(X_test)\n",
    "    \n",
    "    model = linear_model.LinearRegression()\n",
    "    model.fit(X_train_poly, y_train)\n",
    "    \n",
    "    y_pred_test = model.predict(X_test_poly)\n",
    "    mse = mean_squared_error(y_test, y_pred_test)\n",
    "    \n",
    "    mses.append(float(mse))"
   ]
  },
  {
   "cell_type": "code",
   "execution_count": 81,
   "id": "fdd505ff",
   "metadata": {},
   "outputs": [],
   "source": [
    "answers['Q4'] = mses"
   ]
  },
  {
   "cell_type": "code",
   "execution_count": 82,
   "id": "d2954061",
   "metadata": {},
   "outputs": [],
   "source": [
    "assertFloatList(answers['Q4'], 5)"
   ]
  },
  {
   "cell_type": "code",
   "execution_count": 83,
   "id": "ddb4aea1",
   "metadata": {},
   "outputs": [],
   "source": [
    "from sklearn.metrics import mean_absolute_error"
   ]
  },
  {
   "cell_type": "code",
   "execution_count": 84,
   "id": "2fa286a5",
   "metadata": {},
   "outputs": [],
   "source": [
    "### Question 5\n",
    "theta_0 = np.median(y_train)\n",
    "y_pred_test = np.full_like(y_test, theta_0)\n",
    "\n",
    "mae = mean_absolute_error(y_test, y_pred_test)"
   ]
  },
  {
   "cell_type": "code",
   "execution_count": 85,
   "id": "b3a2e9b9",
   "metadata": {},
   "outputs": [],
   "source": [
    "answers['Q5'] = float(mae)"
   ]
  },
  {
   "cell_type": "code",
   "execution_count": 86,
   "id": "d71a47ed",
   "metadata": {},
   "outputs": [],
   "source": [
    "assertFloat(answers['Q5'])"
   ]
  },
  {
   "cell_type": "code",
   "execution_count": 87,
   "id": "cf84f30c",
   "metadata": {},
   "outputs": [],
   "source": [
    "### Question 6"
   ]
  },
  {
   "cell_type": "code",
   "execution_count": 88,
   "id": "19b5b795",
   "metadata": {},
   "outputs": [],
   "source": [
    "f = open(\"beer_50000.json\")\n",
    "dataset = []\n",
    "for l in f:\n",
    "    if 'user/gender' in l:\n",
    "        dataset.append(eval(l))"
   ]
  },
  {
   "cell_type": "code",
   "execution_count": 89,
   "id": "299d4fee",
   "metadata": {},
   "outputs": [
    {
     "data": {
      "text/plain": [
       "20403"
      ]
     },
     "execution_count": 89,
     "metadata": {},
     "output_type": "execute_result"
    }
   ],
   "source": [
    "len(dataset)"
   ]
  },
  {
   "cell_type": "code",
   "execution_count": 90,
   "id": "e0ce9c0b",
   "metadata": {},
   "outputs": [
    {
     "name": "stdout",
     "output_type": "stream",
     "text": [
      "True Positives: 0\n",
      "True Negatives: 20095\n",
      "False Positives: 0\n",
      "False Negatives: 308\n",
      "Balanced Error Rate (BER): 0.5\n"
     ]
    }
   ],
   "source": [
    "from sklearn.linear_model import LogisticRegression\n",
    "from sklearn.metrics import confusion_matrix\n",
    "\n",
    "X = np.array([review['review/text'].count('!') for review in dataset]).reshape(-1, 1)\n",
    "y = np.array([1 if review['user/gender'] == 'Female' else 0 for review in dataset])\n",
    "model = LogisticRegression()\n",
    "model.fit(X, y)\n",
    "\n",
    "y_pred = model.predict(X)\n",
    "\n",
    "TN, FP, FN, TP = confusion_matrix(y, y_pred).ravel()\n",
    "sens = TP / (TP + FN) \n",
    "spec = TN / (TN + FP)\n",
    "BER = 1 - 0.5 * (sens + spec)\n",
    "\n",
    "print(f\"True Positives: {TP}\")\n",
    "print(f\"True Negatives: {TN}\")\n",
    "print(f\"False Positives: {FP}\")\n",
    "print(f\"False Negatives: {FN}\")\n",
    "print(f\"Balanced Error Rate (BER): {BER}\")"
   ]
  },
  {
   "cell_type": "code",
   "execution_count": 91,
   "id": "0c35d20a",
   "metadata": {},
   "outputs": [],
   "source": [
    "answers['Q6'] = [int(TP), int(TN), int(FP), int(FN), float(BER)]"
   ]
  },
  {
   "cell_type": "code",
   "execution_count": 92,
   "id": "9b18991a",
   "metadata": {},
   "outputs": [],
   "source": [
    "assertFloatList(answers['Q6'], 5)"
   ]
  },
  {
   "cell_type": "code",
   "execution_count": 93,
   "id": "f066f3d5",
   "metadata": {},
   "outputs": [
    {
     "name": "stdout",
     "output_type": "stream",
     "text": [
      "True Positives: 88\n",
      "True Negatives: 16332\n",
      "False Positives: 3763\n",
      "False Negatives: 220\n",
      "Balanced Error Rate (BER): 0.4507731134255145\n"
     ]
    }
   ],
   "source": [
    "### Question 7\n",
    "X = np.array([review['review/text'].count('!') for review in dataset]).reshape(-1, 1)\n",
    "y = np.array([1 if review['user/gender'] == 'Female' else 0 for review in dataset])\n",
    "model = LogisticRegression(class_weight='balanced')\n",
    "model.fit(X, y)\n",
    "\n",
    "y_pred = model.predict(X)\n",
    "\n",
    "TN, FP, FN, TP = confusion_matrix(y, y_pred).ravel()\n",
    "sens = TP / (TP + FN) \n",
    "spec = TN / (TN + FP)\n",
    "BER = 1 - 0.5 * (sens + spec)\n",
    "\n",
    "print(f\"True Positives: {TP}\")\n",
    "print(f\"True Negatives: {TN}\")\n",
    "print(f\"False Positives: {FP}\")\n",
    "print(f\"False Negatives: {FN}\")\n",
    "print(f\"Balanced Error Rate (BER): {BER}\")"
   ]
  },
  {
   "cell_type": "code",
   "execution_count": 94,
   "id": "0622704c",
   "metadata": {},
   "outputs": [],
   "source": [
    "answers[\"Q7\"] = [int(TP), int(TN), int(FP), int(FN), float(BER)]"
   ]
  },
  {
   "cell_type": "code",
   "execution_count": 95,
   "id": "efb03c92",
   "metadata": {},
   "outputs": [],
   "source": [
    "assertFloatList(answers['Q7'], 5)"
   ]
  },
  {
   "cell_type": "code",
   "execution_count": 96,
   "id": "0e622c2b",
   "metadata": {},
   "outputs": [],
   "source": [
    "### Question 8"
   ]
  },
  {
   "cell_type": "code",
   "execution_count": 97,
   "id": "6d42177d",
   "metadata": {},
   "outputs": [
    {
     "name": "stdout",
     "output_type": "stream",
     "text": [
      "[np.float64(0.0), np.float64(0.0), np.float64(0.02), np.float64(0.025), np.float64(0.017)]\n"
     ]
    }
   ],
   "source": [
    "def count_exclamations(text):\n",
    "    return text.count('!')\n",
    "\n",
    "def precision_at_k(y_true, y_scores, k):\n",
    "    sorted_indices = np.argsort(y_scores)[::-1]\n",
    "    top_k_indices = sorted_indices[:k]\n",
    "    true_positives = np.sum(y_true[top_k_indices] == 1)\n",
    "    return true_positives / k\n",
    "\n",
    "def prob_8(data):\n",
    "    X = np.array([count_exclamations(review['review/text']) for review in data]).reshape(-1, 1)\n",
    "    y = np.array([1 if review['user/gender'] == 'Female' else 0 for review in data])\n",
    "    \n",
    "    model = LogisticRegression(class_weight='balanced')\n",
    "    model.fit(X, y)\n",
    "    \n",
    "    y_scores = model.predict_proba(X)[:, 1]  # Probability of being female\n",
    "    \n",
    "    k_values = [1, 10, 100, 1000, 10000]\n",
    "    precision_values = [precision_at_k(y, y_scores, k) for k in k_values]\n",
    "    \n",
    "    return precision_values\n",
    "\n",
    "print(prob_8(dataset))"
   ]
  },
  {
   "cell_type": "code",
   "execution_count": 99,
   "id": "9b6bcea5",
   "metadata": {},
   "outputs": [
    {
     "name": "stdout",
     "output_type": "stream",
     "text": [
      "Precision@K for K=[1, 10, 100, 1000, 10000]: [0.0, 0.0, 0.02, 0.025, 0.017]\n"
     ]
    }
   ],
   "source": [
    "X = np.array([review['review/text'].count('!') for review in dataset]).reshape(-1, 1)\n",
    "y = np.array([1 if review['user/gender'] == 'Female' else 0 for review in dataset])\n",
    "model = LogisticRegression(class_weight='balanced', random_state=42)\n",
    "model.fit(X, y)\n",
    "\n",
    "y_prob = model.predict_proba(X)[:, 1]\n",
    "sorted_indices = np.argsort(y_prob)[::-1]\n",
    "\n",
    "K_values = [1, 10, 100, 1000, 10000]\n",
    "\n",
    "# Calculate precision@K for each value of K\n",
    "precisionList = []\n",
    "for K in K_values:\n",
    "    top_K_indices = sorted_indices[:K]\n",
    "    y_top_K = y[top_K_indices]\n",
    "\n",
    "    precision_at_K = np.sum(y_top_K == 1) / K\n",
    "    precisionList.append(float(precision_at_K))\n",
    "\n",
    "print(f\"Precision@K for K={K_values}: {precisionList}\")"
   ]
  },
  {
   "cell_type": "code",
   "execution_count": null,
   "id": "d85908a8",
   "metadata": {},
   "outputs": [],
   "source": []
  },
  {
   "cell_type": "markdown",
   "id": "8594fb07",
   "metadata": {},
   "source": []
  },
  {
   "cell_type": "code",
   "execution_count": 100,
   "id": "764513e1",
   "metadata": {},
   "outputs": [],
   "source": [
    "answers['Q8'] = precisionList"
   ]
  },
  {
   "cell_type": "code",
   "execution_count": 101,
   "id": "b0d7d87a",
   "metadata": {},
   "outputs": [],
   "source": [
    "assertFloatList(answers['Q8'], 5) #List of five floats"
   ]
  },
  {
   "cell_type": "code",
   "execution_count": 102,
   "id": "d557ab88",
   "metadata": {},
   "outputs": [],
   "source": [
    "f = open(\"answers_hw1.txt\", 'w') # Write your answers to a file\n",
    "f.write(str(answers) + '\\n')\n",
    "f.close()"
   ]
  },
  {
   "cell_type": "code",
   "execution_count": null,
   "id": "63b457fc",
   "metadata": {},
   "outputs": [],
   "source": []
  },
  {
   "cell_type": "code",
   "execution_count": null,
   "id": "7cdec074",
   "metadata": {},
   "outputs": [],
   "source": []
  }
 ],
 "metadata": {
  "kernelspec": {
   "display_name": "Python 3 (ipykernel)",
   "language": "python",
   "name": "python3"
  },
  "language_info": {
   "codemirror_mode": {
    "name": "ipython",
    "version": 3
   },
   "file_extension": ".py",
   "mimetype": "text/x-python",
   "name": "python",
   "nbconvert_exporter": "python",
   "pygments_lexer": "ipython3",
   "version": "3.10.0"
  }
 },
 "nbformat": 4,
 "nbformat_minor": 5
}
