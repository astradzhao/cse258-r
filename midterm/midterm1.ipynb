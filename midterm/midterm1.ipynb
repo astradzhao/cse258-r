{
 "cells": [
  {
   "cell_type": "code",
   "execution_count": 91,
   "id": "8fadc0b4",
   "metadata": {},
   "outputs": [],
   "source": [
    "import json\n",
    "import gzip\n",
    "import math\n",
    "import numpy as np\n",
    "from collections import defaultdict\n",
    "from sklearn import linear_model\n",
    "import random\n",
    "import statistics"
   ]
  },
  {
   "cell_type": "code",
   "execution_count": 101,
   "id": "bcdcf1eb",
   "metadata": {},
   "outputs": [],
   "source": [
    "def assertFloat(x):\n",
    "    assert type(float(x)) == float\n",
    "\n",
    "def assertFloatList(items, N):\n",
    "    assert len(items) == N\n",
    "    assert [type(float(x)) for x in items] == [float]*N"
   ]
  },
  {
   "cell_type": "code",
   "execution_count": 102,
   "id": "42a8d119",
   "metadata": {},
   "outputs": [],
   "source": [
    "answers = {}"
   ]
  },
  {
   "cell_type": "code",
   "execution_count": 103,
   "id": "83a6d4b5",
   "metadata": {},
   "outputs": [],
   "source": [
    "# From https://cseweb.ucsd.edu/classes/fa24/cse258-b/files/steam.json.gz\n",
    "z = gzip.open(\"/Users/danielzhao/Documents/GitHub/cse258-r/midterm/steam.json.gz\")"
   ]
  },
  {
   "cell_type": "code",
   "execution_count": 7,
   "id": "0d2ef14c",
   "metadata": {},
   "outputs": [],
   "source": [
    "dataset = []\n",
    "for l in z:\n",
    "    d = eval(l)\n",
    "    dataset.append(d)"
   ]
  },
  {
   "cell_type": "code",
   "execution_count": 8,
   "id": "46a06fd5",
   "metadata": {},
   "outputs": [],
   "source": [
    "z.close()"
   ]
  },
  {
   "cell_type": "code",
   "execution_count": 14,
   "id": "93e80cfe",
   "metadata": {},
   "outputs": [
    {
     "name": "stdout",
     "output_type": "stream",
     "text": [
      "{'hours': 0.3, 'gameID': 'g35322304', 'hours_transformed': 0.37851162325372983, 'early_access': False, 'date': '2015-04-08', 'text': '+1', 'userID': 'u55351001'}\n"
     ]
    }
   ],
   "source": [
    "### Question 1\n",
    "print(dataset[0])"
   ]
  },
  {
   "cell_type": "code",
   "execution_count": 104,
   "id": "c37e48b0",
   "metadata": {},
   "outputs": [],
   "source": [
    "def MSE(y, ypred):\n",
    "    return ((y - ypred) ** 2).mean()"
   ]
  },
  {
   "cell_type": "code",
   "execution_count": 105,
   "id": "a4e6ec8d",
   "metadata": {},
   "outputs": [],
   "source": [
    "X = [[len(d['text'])] for d in dataset]\n",
    "y = [d['hours'] for d in dataset]"
   ]
  },
  {
   "cell_type": "code",
   "execution_count": 106,
   "id": "066c5b78",
   "metadata": {},
   "outputs": [
    {
     "data": {
      "text/plain": [
       "0.3"
      ]
     },
     "execution_count": 106,
     "metadata": {},
     "output_type": "execute_result"
    }
   ],
   "source": [
    "y[0]"
   ]
  },
  {
   "cell_type": "code",
   "execution_count": 107,
   "id": "b74b4f96",
   "metadata": {},
   "outputs": [
    {
     "data": {
      "text/plain": [
       "(np.float64(0.0010422806169490813), np.float64(75735.70018272949))"
      ]
     },
     "execution_count": 107,
     "metadata": {},
     "output_type": "execute_result"
    }
   ],
   "source": [
    "model = linear_model.LinearRegression(fit_intercept=True)\n",
    "model.fit(X, y)\n",
    "\n",
    "theta_1 = model.coef_[0]\n",
    "y_pred = model.predict(X)\n",
    "\n",
    "mse1 = MSE(y, y_pred)\n",
    "\n",
    "theta_1, mse1"
   ]
  },
  {
   "cell_type": "code",
   "execution_count": 108,
   "id": "f32ed5c0",
   "metadata": {},
   "outputs": [],
   "source": [
    "answers['Q1'] = [float(theta_1), float(mse1)] # Remember to cast things to float rather than (e.g.) np.float64"
   ]
  },
  {
   "cell_type": "code",
   "execution_count": 109,
   "id": "7c0b7568",
   "metadata": {},
   "outputs": [],
   "source": [
    "assertFloatList(answers['Q1'], 2)"
   ]
  },
  {
   "cell_type": "code",
   "execution_count": 110,
   "id": "6e26bb75",
   "metadata": {},
   "outputs": [],
   "source": [
    "### Question 2"
   ]
  },
  {
   "cell_type": "code",
   "execution_count": 252,
   "id": "99a2aba4",
   "metadata": {},
   "outputs": [],
   "source": [
    "dataTrain = dataset[:int(len(dataset)*0.8)]\n",
    "dataTest = dataset[int(len(dataset)*0.8):]"
   ]
  },
  {
   "cell_type": "code",
   "execution_count": 253,
   "id": "89ec0d0b-54be-4e77-9970-ce32d30c787a",
   "metadata": {},
   "outputs": [],
   "source": [
    "X_train = [[len(d['text'])] for d in dataTrain]\n",
    "y_train = [d['hours'] for d in dataTrain]\n",
    "\n",
    "X_test = [[len(d['text'])] for d in dataTest]\n",
    "y_test = [d['hours'] for d in dataTest]"
   ]
  },
  {
   "cell_type": "code",
   "execution_count": 254,
   "id": "c7cb44f3",
   "metadata": {},
   "outputs": [],
   "source": [
    "model = linear_model.LinearRegression()\n",
    "model.fit(X_train, y_train)\n",
    "\n",
    "y_pred_test = model.predict(X_test)\n",
    "mse_test = MSE(y_test, y_pred_test)"
   ]
  },
  {
   "cell_type": "code",
   "execution_count": 255,
   "id": "e0620a9b-f9e9-4c43-846d-5d66eb0254b8",
   "metadata": {},
   "outputs": [],
   "source": [
    "under = 0\n",
    "over = 0\n",
    "\n",
    "for y_i, y_pred_i in zip(y_test, y_pred_test):\n",
    "    if y_pred_i < y_i:\n",
    "        under += 1\n",
    "    elif y_pred_i > y_i:\n",
    "        over += 1"
   ]
  },
  {
   "cell_type": "code",
   "execution_count": 256,
   "id": "309ef792",
   "metadata": {},
   "outputs": [],
   "source": [
    "mse2 = MSE(y_test, y_pred_test)"
   ]
  },
  {
   "cell_type": "code",
   "execution_count": 257,
   "id": "7c3cd03d",
   "metadata": {},
   "outputs": [
    {
     "data": {
      "text/plain": [
       "(np.float64(76047.19578054463), 5249, 29751)"
      ]
     },
     "execution_count": 257,
     "metadata": {},
     "output_type": "execute_result"
    }
   ],
   "source": [
    "mse2, under, over"
   ]
  },
  {
   "cell_type": "code",
   "execution_count": 117,
   "id": "1a5d7a44",
   "metadata": {},
   "outputs": [],
   "source": [
    "answers['Q2'] = [float(mse2), under, over]"
   ]
  },
  {
   "cell_type": "code",
   "execution_count": 118,
   "id": "fad4744e",
   "metadata": {},
   "outputs": [],
   "source": [
    "assertFloatList(answers['Q2'], 3)"
   ]
  },
  {
   "cell_type": "code",
   "execution_count": 119,
   "id": "a690f9b9",
   "metadata": {},
   "outputs": [],
   "source": [
    "### Question 3"
   ]
  },
  {
   "cell_type": "code",
   "execution_count": 120,
   "id": "8e524edb",
   "metadata": {},
   "outputs": [],
   "source": [
    "y2 = y[:]\n",
    "y2.sort()\n",
    "perc90 = y2[int(len(y2)*0.9)] # 90th percentile"
   ]
  },
  {
   "cell_type": "code",
   "execution_count": 261,
   "id": "20846206",
   "metadata": {},
   "outputs": [],
   "source": [
    "X3a = [x for x, y in zip(X_train, y_train) if y <= perc90]\n",
    "y3a = [y for y in y_train if y <= perc90]\n",
    "\n",
    "mod3a = linear_model.LinearRegression(fit_intercept=True)\n",
    "mod3a.fit(X3a,y3a)\n",
    "pred3a = mod3a.predict(X_test)"
   ]
  },
  {
   "cell_type": "code",
   "execution_count": 262,
   "id": "90de762d-2a60-4e3b-ba47-8f8d71a7936e",
   "metadata": {},
   "outputs": [
    {
     "data": {
      "text/plain": [
       "(13084, 21916)"
      ]
     },
     "execution_count": 262,
     "metadata": {},
     "output_type": "execute_result"
    }
   ],
   "source": [
    "under3a = 0\n",
    "over3a = 0\n",
    "\n",
    "for y_i, y_pred_i in zip(y_test, pred3a):\n",
    "    if y_pred_i < y_i:\n",
    "        under3a += 1\n",
    "    elif y_pred_i > y_i:\n",
    "        over3a += 1\n",
    "\n",
    "under3a, over3a"
   ]
  },
  {
   "cell_type": "code",
   "execution_count": 123,
   "id": "a6a7160f-3836-4a36-be1b-4bb928c08f2f",
   "metadata": {},
   "outputs": [],
   "source": [
    "# etc. for 3b and 3c"
   ]
  },
  {
   "cell_type": "code",
   "execution_count": 124,
   "id": "f50dd269-673b-4706-9d25-fb5a1ffdcfdc",
   "metadata": {},
   "outputs": [],
   "source": [
    "y_train3b =  [d['hours_transformed'] for d in dataTrain]\n",
    "y_test3b =  [d['hours_transformed'] for d in dataTest]"
   ]
  },
  {
   "cell_type": "code",
   "execution_count": 125,
   "id": "90366ae7",
   "metadata": {},
   "outputs": [],
   "source": [
    "model_b = linear_model.LinearRegression()\n",
    "model_b.fit(X_train, y_train3b)\n",
    "\n",
    "pred3b = model_b.predict(X_test)"
   ]
  },
  {
   "cell_type": "code",
   "execution_count": 126,
   "id": "89d90188",
   "metadata": {},
   "outputs": [],
   "source": [
    "under3b, over3b = 0, 0\n",
    "for y_i, y_pred_i in zip(y_test3b, pred3b):\n",
    "    if y_pred_i < y_i:\n",
    "        under3b += 1\n",
    "    elif y_pred_i > y_i:\n",
    "        over3b += 1"
   ]
  },
  {
   "cell_type": "code",
   "execution_count": 127,
   "id": "e44ef55b",
   "metadata": {},
   "outputs": [
    {
     "data": {
      "text/plain": [
       "(15941, 19059)"
      ]
     },
     "execution_count": 127,
     "metadata": {},
     "output_type": "execute_result"
    }
   ],
   "source": [
    "under3b, over3b"
   ]
  },
  {
   "cell_type": "code",
   "execution_count": 258,
   "id": "85111cfd",
   "metadata": {},
   "outputs": [
    {
     "data": {
      "text/plain": [
       "(20808, 14192)"
      ]
     },
     "execution_count": 258,
     "metadata": {},
     "output_type": "execute_result"
    }
   ],
   "source": [
    "median_review_length = np.median([len(d['text']) for d in dataTrain])\n",
    "median_hours = np.median(y_train)\n",
    "\n",
    "theta_0c = model.intercept_\n",
    "theta_1c = (median_hours - theta_0c) / median_review_length\n",
    "\n",
    "pred3c = [theta_0c + theta_1c * x[0] for x in X_test]\n",
    "\n",
    "under3c, over3c = 0, 0\n",
    "\n",
    "for yi, y_pred_i in zip(y_test, pred3c):\n",
    "    if y_pred_i < yi:\n",
    "        under3c += 1\n",
    "    elif y_pred_i > yi:\n",
    "        over3c += 1\n",
    "\n",
    "under3c, over3c"
   ]
  },
  {
   "cell_type": "code",
   "execution_count": 129,
   "id": "017eeef8-6a78-4872-b6b5-b297abe6213c",
   "metadata": {},
   "outputs": [],
   "source": [
    "answers['Q3'] = [under3a, over3a, under3b, over3b, under3c, over3c]"
   ]
  },
  {
   "cell_type": "code",
   "execution_count": 130,
   "id": "c3e8c251-70ea-4213-a384-f684476772e9",
   "metadata": {},
   "outputs": [],
   "source": [
    "assertFloatList(answers['Q3'], 6)"
   ]
  },
  {
   "cell_type": "code",
   "execution_count": 131,
   "id": "15645595-b793-42ae-bf08-51ed4aa11b90",
   "metadata": {},
   "outputs": [],
   "source": [
    "### Question 4"
   ]
  },
  {
   "cell_type": "code",
   "execution_count": 135,
   "id": "c3bc825a",
   "metadata": {},
   "outputs": [],
   "source": [
    "from sklearn.metrics import confusion_matrix"
   ]
  },
  {
   "cell_type": "code",
   "execution_count": 132,
   "id": "10b65330-4eb3-4ce8-a43f-ec7b2b23f6fe",
   "metadata": {},
   "outputs": [],
   "source": [
    "y_train4 = [1 if y > median_hours else 0 for y in y_train]\n",
    "y_test4 = [1 if y > median_hours else 0 for y in y_test]"
   ]
  },
  {
   "cell_type": "code",
   "execution_count": 136,
   "id": "0968ced0-1b35-4032-b4bf-ee4d0c32182f",
   "metadata": {},
   "outputs": [],
   "source": [
    "mod = linear_model.LogisticRegression(C=1)\n",
    "mod.fit(X_train,y_train4)\n",
    "predictions4 = mod.predict(X_test) # Binary vector of predictions"
   ]
  },
  {
   "cell_type": "code",
   "execution_count": 141,
   "id": "82e3f6ec-8911-4249-927e-c78dc891197f",
   "metadata": {},
   "outputs": [],
   "source": [
    "TN, FP, FN, TP = confusion_matrix(y_test4, predictions4).ravel()"
   ]
  },
  {
   "cell_type": "code",
   "execution_count": 142,
   "id": "943bdb59",
   "metadata": {},
   "outputs": [],
   "source": [
    "fpr = FP / (FP + TN)\n",
    "fnr = FN / (FN + TP)\n",
    "BER = (fpr + fnr) / 2"
   ]
  },
  {
   "cell_type": "code",
   "execution_count": 146,
   "id": "33548639-8b44-402d-940f-256ace3e35bf",
   "metadata": {},
   "outputs": [],
   "source": [
    "answers['Q4'] = [int(TP), int(TN), int(FP), int(FN), float(BER)]"
   ]
  },
  {
   "cell_type": "code",
   "execution_count": 144,
   "id": "87e91291-ab44-49b9-8965-9ac820877740",
   "metadata": {},
   "outputs": [],
   "source": [
    "assertFloatList(answers['Q4'], 5)"
   ]
  },
  {
   "cell_type": "code",
   "execution_count": null,
   "id": "b357a12a-a71c-4562-a407-5fdaaece6a46",
   "metadata": {},
   "outputs": [],
   "source": [
    "### Question 5"
   ]
  },
  {
   "cell_type": "code",
   "execution_count": 150,
   "id": "9094734d-209b-44ac-8459-2bcbc8d25e35",
   "metadata": {},
   "outputs": [],
   "source": [
    "answers['Q5'] = [int(FP), int(FN)]"
   ]
  },
  {
   "cell_type": "code",
   "execution_count": null,
   "id": "3d05f199-a588-44f8-9ea5-5764b957e417",
   "metadata": {},
   "outputs": [],
   "source": [
    "assertFloatList(answers['Q5'], 2)"
   ]
  },
  {
   "cell_type": "code",
   "execution_count": null,
   "id": "8b4a2fd5-6773-4bc2-90ee-faeb629c6823",
   "metadata": {},
   "outputs": [],
   "source": [
    "### Question 6"
   ]
  },
  {
   "cell_type": "code",
   "execution_count": 155,
   "id": "2b056f27",
   "metadata": {},
   "outputs": [],
   "source": [
    "def compute_ber(X_train, y_train, X_test, y_test):\n",
    "    model = linear_model.LogisticRegression(C=1)\n",
    "    model.fit(X_train, y_train)\n",
    "    y_pred = model.predict(X_test)\n",
    "    tn, fp, fn, tp = confusion_matrix(y_test, y_pred).ravel()\n",
    "    fpr = fp / (fp + tn) if (fp + tn) > 0 else 0\n",
    "    fnr = fn / (fn + tp) if (fn + tp) > 0 else 0\n",
    "    ber = (fpr + fnr) / 2\n",
    "    return ber"
   ]
  },
  {
   "cell_type": "code",
   "execution_count": 156,
   "id": "01bd99c6-acc7-4d85-81a1-9da9a14bd40f",
   "metadata": {},
   "outputs": [],
   "source": [
    "X2014 = [[len(d['text'])] for d in dataTrain if int(d['date'][:4]) <= 2014]\n",
    "y2014 = [1 if d['hours'] > median_hours else 0 for d in dataTrain if int(d['date'][:4]) <= 2014]\n",
    "\n",
    "X2014test = [[len(d['text'])] for d in dataTest if int(d['date'][:4]) <= 2014]\n",
    "y2014test = [1 if d['hours'] > median_hours else 0 for d in dataTest if int(d['date'][:4]) <= 2014]\n",
    "\n",
    "X2015 = [[len(d['text'])] for d in dataTrain if int(d['date'][:4]) >= 2015]\n",
    "y2015 = [1 if d['hours'] > median_hours else 0 for d in dataTrain if int(d['date'][:4]) >= 2015]\n",
    "\n",
    "X2015test = [[len(d['text'])] for d in dataTest if int(d['date'][:4]) >= 2015]\n",
    "y2015test = [1 if d['hours'] > median_hours else 0 for d in dataTest if int(d['date'][:4]) >= 2015]"
   ]
  },
  {
   "cell_type": "code",
   "execution_count": 158,
   "id": "c3aee3be-0de4-4087-b8fa-ccd825604690",
   "metadata": {},
   "outputs": [
    {
     "data": {
      "text/plain": [
       "(np.float64(0.4799670470952742),\n",
       " np.float64(0.47394608476712863),\n",
       " np.float64(0.4820528229832485),\n",
       " np.float64(0.4722496441821391))"
      ]
     },
     "execution_count": 158,
     "metadata": {},
     "output_type": "execute_result"
    }
   ],
   "source": [
    "BER_A = compute_ber(X2014, y2014, X2014test, y2014test)\n",
    "BER_B = compute_ber(X2015, y2015, X2015test, y2015test)\n",
    "BER_C = compute_ber(X2014, y2014, X2015test, y2015test)\n",
    "BER_D = compute_ber(X2015, y2015, X2014test, y2014test)\n",
    "\n",
    "BER_A, BER_B, BER_C, BER_D"
   ]
  },
  {
   "cell_type": "code",
   "execution_count": 159,
   "id": "77349259-dc23-4051-a7af-d8becaf9a0a8",
   "metadata": {},
   "outputs": [],
   "source": [
    "answers['Q6'] = [float(BER_A), float(BER_B), float(BER_C), float(BER_D)]"
   ]
  },
  {
   "cell_type": "code",
   "execution_count": 160,
   "id": "a6530d65-871b-40bc-8bd5-7b1f64e00402",
   "metadata": {},
   "outputs": [],
   "source": [
    "assertFloatList(answers['Q6'], 4)"
   ]
  },
  {
   "cell_type": "code",
   "execution_count": null,
   "id": "3b4c89bb-4a6e-4ff4-8178-a8519bb72151",
   "metadata": {},
   "outputs": [],
   "source": [
    "### Question 7"
   ]
  },
  {
   "cell_type": "code",
   "execution_count": 178,
   "id": "f1bb3bea",
   "metadata": {},
   "outputs": [
    {
     "data": {
      "text/plain": [
       "{'hours': 1.7,\n",
       " 'gameID': 'g25723374',\n",
       " 'hours_transformed': 1.4329594072761063,\n",
       " 'early_access': False,\n",
       " 'date': '2015-01-17',\n",
       " 'text': 'Never knew a guns had THAT many parts!',\n",
       " 'userID': 'u01499286'}"
      ]
     },
     "execution_count": 178,
     "metadata": {},
     "output_type": "execute_result"
    }
   ],
   "source": [
    "dataTrain[5]"
   ]
  },
  {
   "cell_type": "code",
   "execution_count": 202,
   "id": "0a7f0b9c-307d-4376-aabc-300882bb71f6",
   "metadata": {},
   "outputs": [],
   "source": [
    "usersPerItem = defaultdict(set) # Maps an item to the users who rated it\n",
    "itemsPerUser = defaultdict(set) # Maps a user to the items that they rated\n",
    "reviewsPerUser = defaultdict(dict)\n",
    "reviewsPerItem = defaultdict(dict)\n",
    "\n",
    "for d in dataTrain:\n",
    "    user = d['userID']\n",
    "    item = d['gameID']\n",
    "    review = d['hours_transformed']\n",
    "    year = int(d['date'][:4])\n",
    "\n",
    "    usersPerItem[item].add(user)\n",
    "    itemsPerUser[user].add(item)\n",
    "    reviewsPerUser[user][item] = review\n",
    "    reviewsPerItem[item][user] = review"
   ]
  },
  {
   "cell_type": "code",
   "execution_count": 203,
   "id": "f952202b",
   "metadata": {},
   "outputs": [],
   "source": [
    "def jaccard_similarity(set1, set2):\n",
    "    intersection = len(set1.intersection(set2))\n",
    "    union = len(set1.union(set2))\n",
    "    return intersection / union if union != 0 else 0"
   ]
  },
  {
   "cell_type": "code",
   "execution_count": 204,
   "id": "8c59b51b-4d40-489f-8f02-6c7b646be571",
   "metadata": {},
   "outputs": [],
   "source": [
    "first_user = dataTrain[0]['userID']\n",
    "first_user_items = itemsPerUser[first_user]\n",
    "\n",
    "similarities = []\n",
    "for user, items in itemsPerUser.items():\n",
    "    if user != first_user:\n",
    "        s = jaccard_similarity(first_user_items, items)\n",
    "        similarities.append((user, s))\n",
    "\n",
    "similarities.sort(key=lambda x: x[1], reverse=True)\n",
    "top_10_similar = similarities[:10]\n",
    "\n",
    "first = top_10_similar[0][1]\n",
    "tenth = top_10_similar[9][1]"
   ]
  },
  {
   "cell_type": "code",
   "execution_count": 205,
   "id": "3ed3586b",
   "metadata": {},
   "outputs": [
    {
     "data": {
      "text/plain": [
       "(0.10909090909090909, 0.08235294117647059)"
      ]
     },
     "execution_count": 205,
     "metadata": {},
     "output_type": "execute_result"
    }
   ],
   "source": [
    "first, tenth"
   ]
  },
  {
   "cell_type": "code",
   "execution_count": 206,
   "id": "c40046cf-4900-4efb-b161-60e62dd0705f",
   "metadata": {},
   "outputs": [],
   "source": [
    "answers['Q7'] = [first, tenth]"
   ]
  },
  {
   "cell_type": "code",
   "execution_count": 207,
   "id": "a2943745-40c5-44ae-9464-89603b0b62f0",
   "metadata": {},
   "outputs": [],
   "source": [
    "assertFloatList(answers['Q7'], 2)"
   ]
  },
  {
   "cell_type": "code",
   "execution_count": 208,
   "id": "de1c320a-37b2-42e3-9362-4294b31047f9",
   "metadata": {},
   "outputs": [],
   "source": [
    "### Question 8"
   ]
  },
  {
   "cell_type": "code",
   "execution_count": 209,
   "id": "c16c60b1",
   "metadata": {},
   "outputs": [],
   "source": [
    "avg_hrs = np.mean([d['hours_transformed'] for d in dataTrain])"
   ]
  },
  {
   "cell_type": "code",
   "execution_count": 210,
   "id": "358db1e9-d9ad-432e-a233-74dc1ab44279",
   "metadata": {},
   "outputs": [],
   "source": [
    "def predict_hrs_user(user, item):\n",
    "    similar_users = usersPerItem[item]\n",
    "    num = 0\n",
    "    den = 0\n",
    "    for i in similar_users:\n",
    "        if i != user:\n",
    "            similarity = jaccard_similarity(itemsPerUser[user], itemsPerUser[i])\n",
    "            num += reviewsPerUser[i][item] * similarity\n",
    "            den += similarity\n",
    "    return num / den if den != 0 else avg_hrs\n",
    "\n",
    "def predict_hrs_item(user, item):\n",
    "    similar_items = itemsPerUser[user]\n",
    "    num = 0\n",
    "    den = 0\n",
    "    for i in similar_items:\n",
    "        if i != item:\n",
    "            similarity = jaccard_similarity(usersPerItem[item], usersPerItem[i])\n",
    "            num += reviewsPerItem[i][user] * similarity\n",
    "            den += similarity\n",
    "    return num / den if den != 0 else avg_hrs\n",
    "\n",
    "def calculate_mse(predictor, test_data):\n",
    "    squared_errors = []\n",
    "    for d in test_data:\n",
    "        user, item, true_value = d['userID'], d['gameID'], d['hours_transformed']\n",
    "        predicted_value = predictor(user, item)\n",
    "        squared_errors.append((true_value - predicted_value) ** 2)\n",
    "    return np.mean(squared_errors)\n",
    "\n",
    "MSEU = calculate_mse(predict_hrs_user, dataTest)\n",
    "MSEI = calculate_mse(predict_hrs_item, dataTest)"
   ]
  },
  {
   "cell_type": "code",
   "execution_count": 211,
   "id": "9a638bbe",
   "metadata": {},
   "outputs": [
    {
     "data": {
      "text/plain": [
       "(np.float64(3.281076845941175), np.float64(4.915274596519426))"
      ]
     },
     "execution_count": 211,
     "metadata": {},
     "output_type": "execute_result"
    }
   ],
   "source": [
    "MSEU, MSEI"
   ]
  },
  {
   "cell_type": "code",
   "execution_count": 212,
   "id": "55d2d046-6faa-4a73-ae47-f013aaa51d56",
   "metadata": {},
   "outputs": [],
   "source": [
    "answers['Q8'] = [float(MSEU), float(MSEI)]"
   ]
  },
  {
   "cell_type": "code",
   "execution_count": 213,
   "id": "ecffcfba-394a-4b79-be85-c7c5ca7a3d23",
   "metadata": {},
   "outputs": [],
   "source": [
    "assertFloatList(answers['Q8'], 2)"
   ]
  },
  {
   "cell_type": "code",
   "execution_count": 214,
   "id": "2adb115b-2007-47a6-a29f-096f287cf434",
   "metadata": {},
   "outputs": [],
   "source": [
    "### Question 9"
   ]
  },
  {
   "cell_type": "code",
   "execution_count": 244,
   "id": "85fbeafb",
   "metadata": {},
   "outputs": [],
   "source": [
    "reviewYearUserItem = defaultdict(dict)\n",
    "reviewYearItemUser = defaultdict(dict)\n",
    "for d in dataset:\n",
    "    user = d['userID']\n",
    "    item = d['gameID']\n",
    "    year = int(d['date'][:4])\n",
    "    reviewYearUserItem[user][item] = year\n",
    "    reviewYearItemUser[item][user] = year"
   ]
  },
  {
   "cell_type": "code",
   "execution_count": 246,
   "id": "16be0fa6-d7c9-459c-bf94-7ccd84fa24df",
   "metadata": {},
   "outputs": [],
   "source": [
    "def predict_hrs_user_time(user, item):\n",
    "    similar_users = usersPerItem[item]\n",
    "    target_year = reviewYearUserItem[user][item]\n",
    "    \n",
    "    numerator = 0\n",
    "    denominator = 0\n",
    "    for i in similar_users:\n",
    "        if i != user:\n",
    "            similarity = jaccard_similarity(itemsPerUser[user], itemsPerUser[i])\n",
    "            year_diff = abs(target_year - reviewYearUserItem[i][item])\n",
    "            time_weight = np.exp(-year_diff)\n",
    "            numerator += reviewsPerUser[i][item] * similarity * time_weight\n",
    "            denominator += similarity * time_weight\n",
    "    \n",
    "    return numerator / denominator if denominator != 0 else avg_hrs\n",
    "\n",
    "MSE9 = calculate_mse(predict_hrs_user_time, dataTest)"
   ]
  },
  {
   "cell_type": "code",
   "execution_count": 247,
   "id": "17b6ecde",
   "metadata": {},
   "outputs": [
    {
     "data": {
      "text/plain": [
       "np.float64(3.310021092937096)"
      ]
     },
     "execution_count": 247,
     "metadata": {},
     "output_type": "execute_result"
    }
   ],
   "source": [
    "MSE9"
   ]
  },
  {
   "cell_type": "code",
   "execution_count": 248,
   "id": "a321b8c9-56de-4b34-bbcf-2552bc5d4f60",
   "metadata": {},
   "outputs": [],
   "source": [
    "answers['Q9'] = float(MSE9)"
   ]
  },
  {
   "cell_type": "code",
   "execution_count": 249,
   "id": "17374d80-9ab3-4877-845e-836524d8aa66",
   "metadata": {},
   "outputs": [],
   "source": [
    "assertFloat(answers['Q9'])"
   ]
  },
  {
   "cell_type": "code",
   "execution_count": 250,
   "id": "de71bdd6-92d8-430d-b419-7e37e3ddc701",
   "metadata": {},
   "outputs": [],
   "source": [
    "if \"float\" in str(answers) or \"int\" in str(answers):\n",
    "    print(\"it seems that some of your answers are not native python ints/floats;\")\n",
    "    print(\"the autograder will not be able to read your solution unless you convert them to ints/floats\")"
   ]
  },
  {
   "cell_type": "code",
   "execution_count": 251,
   "id": "d3fb9831-179f-4354-b4f0-48a4ea5b767c",
   "metadata": {},
   "outputs": [],
   "source": [
    "f = open(\"answers_midterm.txt\", 'w')\n",
    "f.write(str(answers) + '\\n')\n",
    "f.close()"
   ]
  },
  {
   "cell_type": "code",
   "execution_count": null,
   "id": "b53acc41",
   "metadata": {},
   "outputs": [],
   "source": []
  }
 ],
 "metadata": {
  "kernelspec": {
   "display_name": "Python 3 (ipykernel)",
   "language": "python",
   "name": "python3"
  },
  "language_info": {
   "codemirror_mode": {
    "name": "ipython",
    "version": 3
   },
   "file_extension": ".py",
   "mimetype": "text/x-python",
   "name": "python",
   "nbconvert_exporter": "python",
   "pygments_lexer": "ipython3",
   "version": "3.10.0"
  }
 },
 "nbformat": 4,
 "nbformat_minor": 5
}
